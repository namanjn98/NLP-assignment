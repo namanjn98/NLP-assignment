{
 "cells": [
  {
   "cell_type": "code",
   "execution_count": 416,
   "metadata": {},
   "outputs": [
    {
     "name": "stdout",
     "output_type": "stream",
     "text": [
      "Tom Sawyer Text\n",
      "\n"
     ]
    }
   ],
   "source": [
    "from nltk.tokenize import sent_tokenize\n",
    "from nltk.tokenize import word_tokenize\n",
    "from nltk.tokenize import RegexpTokenizer\n",
    "\n",
    "#Accessing text\n",
    "text = open('sawyr10.txt')\n",
    "tom_text = text.read()\n",
    "print 'Tom Sawyer Text\\n'\n",
    "\n",
    "#Remove Punctuations\n",
    "tom_words2 = sent_tokenize(tom_text)\n",
    "token = RegexpTokenizer(r'\\w+') \n",
    "tom_words = token.tokenize(tom_text)\n",
    "\n",
    "tommy = []\n",
    "for word in tom_words:\n",
    "    if ('1' or '2' or '3' or '4' or '5' or '6' or '7' or '8' or '9' or '0') in word:\n",
    "        continue\n",
    "    elif \"'\" in word:\n",
    "        word.replace(\"'\",'')\n",
    "    else:\n",
    "        tommy.append(word)\n",
    "        \n",
    "tom_words = tommy\n"
   ]
  },
  {
   "cell_type": "code",
   "execution_count": 417,
   "metadata": {},
   "outputs": [],
   "source": [
    "#Word Frequency \n",
    "tom_dict = {}\n",
    "\n",
    "for word in tom_words:\n",
    "    if word in tom_dict:\n",
    "        tom_dict[word] = tom_dict[word] + 1\n",
    "    else:\n",
    "        tom_dict[word] = 1"
   ]
  },
  {
   "cell_type": "code",
   "execution_count": 418,
   "metadata": {},
   "outputs": [
    {
     "name": "stdout",
     "output_type": "stream",
     "text": [
      "Total tokens: 74008\n",
      "Total types: 8050\n",
      "TTR: 0.108772 \n",
      "\n"
     ]
    }
   ],
   "source": [
    "#Frequency of word frequency \n",
    "tom_dict_2 = {}\n",
    "\n",
    "for word in tom_words:\n",
    "    if tom_dict[word] in tom_dict_2:\n",
    "        tom_dict_2[tom_dict[word]] = tom_dict_2[tom_dict[word]] + 1\n",
    "    else:\n",
    "        tom_dict_2[tom_dict[word]] = 1        \n",
    "        \n",
    "#Tokens\n",
    "print 'Total tokens: %d'%(len(tom_words))\n",
    "\n",
    "#Type\n",
    "print 'Total types: %d'%(len(tom_dict))\n",
    "\n",
    "#TTR \n",
    "ttr = float(len(tom_dict))/len(tom_words)\n",
    "print 'TTR: %f \\n'%(ttr)"
   ]
  },
  {
   "cell_type": "code",
   "execution_count": 419,
   "metadata": {},
   "outputs": [],
   "source": [
    "import numpy as np\n",
    "import matplotlib.pyplot as plt"
   ]
  },
  {
   "cell_type": "code",
   "execution_count": 420,
   "metadata": {},
   "outputs": [],
   "source": [
    "tom_dict_sam = {}\n",
    "for i in range(len(tom_words2)):\n",
    "    tom_words2[i] = token.tokenize(tom_words2[i])\n",
    "    \n",
    "    c = 0\n",
    "\n",
    "    for word in tom_words2[i]:\n",
    "        if word in tom_dict_sam:\n",
    "            tom_dict_sam[word] = tom_dict_sam[word] + 1\n",
    "        else:\n",
    "            tom_dict_sam[word] = 1\n",
    "            c= c+1\n",
    "    \n",
    "    tom_words2[i] = [c, len(tom_words2[i])]\n"
   ]
  },
  {
   "cell_type": "code",
   "execution_count": 421,
   "metadata": {},
   "outputs": [],
   "source": [
    "#Heap's law\n",
    "x = [0]\n",
    "y = [0]\n",
    "\n",
    "for i in range(len(tom_words2)):\n",
    "    x.append(x[i] + tom_words2[i][1])\n",
    "    y.append(y[i] + tom_words2[i][0])\n",
    "\n"
   ]
  },
  {
   "cell_type": "code",
   "execution_count": 422,
   "metadata": {},
   "outputs": [],
   "source": [
    "import scipy\n",
    "\n",
    "from scipy.optimize import curve_fit\n",
    "\n",
    "def func(x,k,b):\n",
    "    return k*(x**b)\n",
    "\n",
    "popt, pcov = curve_fit(func, x, y)"
   ]
  },
  {
   "cell_type": "code",
   "execution_count": 423,
   "metadata": {},
   "outputs": [],
   "source": [
    "K = popt[0]\n",
    "beta = popt[1]"
   ]
  },
  {
   "cell_type": "code",
   "execution_count": 424,
   "metadata": {},
   "outputs": [
    {
     "name": "stdout",
     "output_type": "stream",
     "text": [
      "Heap's law\n",
      "K = 10.793360, Beta = 0.592674\n"
     ]
    }
   ],
   "source": [
    "#Heap's law's parameters\n",
    "print (\"Heap's law\")\n",
    "print ('K = %f, Beta = %f'%(K,beta))"
   ]
  },
  {
   "cell_type": "code",
   "execution_count": 425,
   "metadata": {},
   "outputs": [],
   "source": [
    "y_test = []\n",
    "for i in x:\n",
    "    y_test.append(K*(i**beta))"
   ]
  },
  {
   "cell_type": "code",
   "execution_count": 426,
   "metadata": {},
   "outputs": [
    {
     "name": "stdout",
     "output_type": "stream",
     "text": [
      "BLUE is Emperical while RED is the fitted curve via Heap's law\n",
      "\n",
      "|V| = K(N)^beta = 10.793360(N)^0.592674\n"
     ]
    },
    {
     "data": {
      "image/png": "[encoded data removed]",
      "text/plain": [
       "<matplotlib.figure.Figure at 0x114c47510>"
      ]
     },
     "metadata": {},
     "output_type": "display_data"
    }
   ],
   "source": [
    "plt.plot(x,y_test,'r',label ='Fitted Curve')\n",
    "plt.plot(x,y,'b',label='Empirical')\n",
    "plt.legend()\n",
    "\n",
    "print (\"BLUE is Emperical while RED is the fitted curve via Heap's law\\n\")\n",
    "print ('|V| = K(N)^beta = %f(N)^%f'%(K,beta))"
   ]
  },
  {
   "cell_type": "code",
   "execution_count": 427,
   "metadata": {},
   "outputs": [],
   "source": [
    "#Zipf's law - Word frequency \n",
    "word_freq_inp = list(tom_dict)"
   ]
  },
  {
   "cell_type": "code",
   "execution_count": 428,
   "metadata": {},
   "outputs": [],
   "source": [
    "word_freq = []\n",
    "for i in word_freq_inp:\n",
    "    word_freq.append([i,tom_dict[i]])"
   ]
  },
  {
   "cell_type": "code",
   "execution_count": 429,
   "metadata": {},
   "outputs": [],
   "source": [
    "from operator import itemgetter\n",
    "word_freq.sort(key=itemgetter(1))"
   ]
  },
  {
   "cell_type": "code",
   "execution_count": 430,
   "metadata": {
    "scrolled": true
   },
   "outputs": [],
   "source": [
    "t=[]\n",
    "f=[]\n",
    "r=[]\n",
    "l=[]\n",
    "\n",
    "for i in range(len(word_freq)):\n",
    "    word_freq[i].append(len(word_freq[i][0]))\n",
    "\n",
    "t=[]\n",
    "t.append(word_freq[0])\n",
    "\n",
    "for arr in word_freq:\n",
    "    if arr[1] != t[-1][1]:\n",
    "        t.append(arr)\n",
    "\n",
    "t_new = []        \n",
    "for i in range(len(t)):\n",
    "    t_new.append(t[-(i+1)])\n",
    "    f.append(t_new[i][1])\n",
    "    r.append(i+1)\n",
    "    l.append(t_new[i][2])\n",
    "        \n",
    "\n",
    "word_freq = t_new        "
   ]
  },
  {
   "cell_type": "code",
   "execution_count": 431,
   "metadata": {},
   "outputs": [],
   "source": [
    "theta = 7000\n",
    "\n",
    "for i in range(1000):\n",
    "\n",
    "    J = 0\n",
    "    for i in range(len(f)):\n",
    "        J = J + ((theta/f[i]) - r[i])/f[i]\n",
    "\n",
    "    theta = theta - 0.0001*(J)"
   ]
  },
  {
   "cell_type": "code",
   "execution_count": 432,
   "metadata": {},
   "outputs": [],
   "source": [
    "r_test = []\n",
    "for i in f:\n",
    "    r_test.append(theta*(i**(-1)))"
   ]
  },
  {
   "cell_type": "code",
   "execution_count": 433,
   "metadata": {},
   "outputs": [
    {
     "name": "stdout",
     "output_type": "stream",
     "text": [
      "Zipf's law - Word frequency\n",
      "\n",
      "BLUE is Emperical while RED is the fitted curve using gradient descent according to Zipf's law\n",
      "\n",
      "r = Rank, f = Word frequency\n",
      "\n",
      "f.r = 6024.785567 = A.N\n",
      "A = 6024.785567/74008 = 0.081407 ~ 0.1\n",
      "Zipf's law in this case does not work in the case when number of type = number of tokens\n"
     ]
    },
    {
     "data": {
      "image/png": "[encoded data removed]",
      "text/plain": [
       "<matplotlib.figure.Figure at 0x114418910>"
      ]
     },
     "metadata": {},
     "output_type": "display_data"
    }
   ],
   "source": [
    "plt.plot(f,r_test,'b', label = 'Fitted Curve')\n",
    "plt.plot(f,r,'r', label = 'Empirical')\n",
    "plt.legend()\n",
    "\n",
    "plt.xlabel('Word Frequency')\n",
    "plt.ylabel('Rank')\n",
    "print (\"Zipf's law - Word frequency\\n\")\n",
    "print (\"BLUE is Emperical while RED is the fitted curve using gradient descent according to Zipf's law\\n\")\n",
    "print ('r = Rank, f = Word frequency\\n')\n",
    "print ('f.r = %f = A.N'%(theta))\n",
    "print ('A = %f/%d = %f ~ 0.1'%(theta,len(tom_words), theta/len(tom_words)))\n",
    "\n",
    "print (\"Zipf's law in this case does not work in the case when number of type = number of tokens\")"
   ]
  },
  {
   "cell_type": "code",
   "execution_count": 434,
   "metadata": {},
   "outputs": [
    {
     "name": "stdout",
     "output_type": "stream",
     "text": [
      "Zipf's law - Word length\n",
      "\n",
      "BLUE is Emperical while RED is the fitted curve using gradient descent according to Zipf's law\n",
      "\n",
      "l = Word length, f = Word frequency\n",
      "\n",
      "f.l = 10.038223\n",
      "Zipf's law in this case does not work in the case of nouns such as protaganist's name - 'Tom' \n"
     ]
    },
    {
     "data": {
      "image/png": "[encoded data removed]",
      "text/plain": [
       "<matplotlib.figure.Figure at 0x111e03410>"
      ]
     },
     "metadata": {},
     "output_type": "display_data"
    }
   ],
   "source": [
    "theta_1 = 10\n",
    "\n",
    "for i in range(3000):\n",
    "\n",
    "    J = 0\n",
    "    for i in range(len(f)):\n",
    "        J = J + ((theta_1/f[i]) - l[i])/f[i]\n",
    "\n",
    "    theta_1 = theta_1 - 0.000001*(J)\n",
    "\n",
    "l_test = []\n",
    "for i in f:\n",
    "    l_test.append(theta_1*(i**(-1)))\n",
    "\n",
    "plt.plot(f,l,'b',label = 'Empirical')\n",
    "plt.plot(f,l_test,'r', label = 'Fitted curve')\n",
    "plt.legend()\n",
    "\n",
    "plt.xlabel('Word Frequency')\n",
    "plt.ylabel('Word Length')\n",
    "\n",
    "print (\"Zipf's law - Word length\\n\")\n",
    "print (\"BLUE is Emperical while RED is the fitted curve using gradient descent according to Zipf's law\\n\")\n",
    "print ('l = Word length, f = Word frequency\\n')\n",
    "print ('f.l = %f'%(theta_1))\n",
    "\n",
    "print (\"Zipf's law in this case does not work in the case of nouns such as protaganist's name - 'Tom' \")"
   ]
  },
  {
   "cell_type": "code",
   "execution_count": 435,
   "metadata": {},
   "outputs": [
    {
     "name": "stdout",
     "output_type": "stream",
     "text": [
      "Zipf's law - Meanings of the word\n",
      "\n",
      "Examples which follow Zipf's law:\n",
      "\n"
     ]
    }
   ],
   "source": [
    "#Zipf's law - Meanings\n",
    "from nltk.corpus import wordnet\n",
    "\n",
    "print (\"Zipf's law - Meanings of the word\\n\")\n",
    "print (\"Examples which follow Zipf's law:\\n\")\n",
    "\n",
    "mean = []\n",
    "for word in word_freq:\n",
    "    syns = wordnet.synsets(word[0])\n",
    "    if len(syns) == 0:\n",
    "        continue\n",
    "    else:\n",
    "        word.append(len(syns))\n",
    "        mean.append(word)\n",
    "        #2, 10, 12 13 16 17 18 20 22 -1 -2 -3"
   ]
  },
  {
   "cell_type": "code",
   "execution_count": 436,
   "metadata": {},
   "outputs": [
    {
     "name": "stdout",
     "output_type": "stream",
     "text": [
      "Word =had, Frequency = 510, Number of meanings = 19\n",
      "Word =said, Frequency = 352, Number of meanings = 12\n",
      "Word =be, Frequency = 310, Number of meanings = 14\n",
      "Word =up, Frequency = 304, Number of meanings = 14\n",
      "Word =so, Frequency = 297, Number of meanings = 11\n",
      "Word =out, Frequency = 279, Number of meanings = 17\n",
      "Word =were, Frequency = 274, Number of meanings = 13\n",
      "Word =just, Frequency = 131, Number of meanings = 10\n",
      "Word =heart, Frequency = 69, Number of meanings = 10\n",
      "Word =told, Frequency = 47, Number of meanings = 8\n",
      "Word =Western, Frequency = 2, Number of meanings = 6\n",
      "Word =cussed, Frequency = 2, Number of meanings = 2\n",
      "Word =raining, Frequency = 1, Number of meanings = 2\n"
     ]
    }
   ],
   "source": [
    "c = [ 9, 12, 15, 16, 17, 19, 21, 47, 87, 102, 144, 145, 146]\n",
    "for i in c:\n",
    "    mean[i][1] = (mean[i][1])**(0.5) \n",
    "    print (\"Word =%s, Frequency = %d, Number of meanings = %d\"%(mean[i][0],(mean[i][1])**2,mean[i][3]))\n"
   ]
  },
  {
   "cell_type": "code",
   "execution_count": 437,
   "metadata": {
    "scrolled": false
   },
   "outputs": [],
   "source": [
    "X_mean =[]\n",
    "Y_mean =[]\n",
    "for i in c: \n",
    "    X_mean.append(mean[i][1])\n",
    "    Y_mean.append(mean[i][3])"
   ]
  },
  {
   "cell_type": "code",
   "execution_count": 438,
   "metadata": {},
   "outputs": [
    {
     "name": "stdout",
     "output_type": "stream",
     "text": [
      "BLUE is Emperical while RED is the fitted curve using gradient descent according to Zipf's law\n",
      "\n",
      "Zipf's law in this case does not work in the case of small(length) function words as their frequency is very high but their they have very less meaning such as 'the', 'a'\n"
     ]
    },
    {
     "data": {
      "image/png": "[encoded data removed]",
      "text/plain": [
       "<matplotlib.figure.Figure at 0x11434e1d0>"
      ]
     },
     "metadata": {},
     "output_type": "display_data"
    }
   ],
   "source": [
    "def func(x,a,b):\n",
    "    return a*x + b\n",
    "\n",
    "popt, pcov = curve_fit(func, X_mean, Y_mean)\n",
    "\n",
    "Y_test = []\n",
    "for i in X_mean:\n",
    "    Y_test.append(popt[0]*(i) + popt[1])\n",
    "\n",
    "print (\"BLUE is Emperical while RED is the fitted curve using gradient descent according to Zipf's law\\n\")    \n",
    "plt.plot(X_mean,Y_mean,'b', label = 'Empirical')\n",
    "plt.plot(X_mean,Y_test,'r', label = 'Fitted curve')\n",
    "plt.legend()\n",
    "\n",
    "plt.xlabel('Square Root of Frequency')\n",
    "plt.ylabel('Number of meanings')\n",
    "\n",
    "\n",
    "print (\"Zipf's law in this case does not work in the case of small(length) function words as their frequency is very high but their they have very less meaning such as 'the', 'a'\")"
   ]
  },
  {
   "cell_type": "code",
   "execution_count": null,
   "metadata": {},
   "outputs": [],
   "source": []
  },
  {
   "cell_type": "code",
   "execution_count": null,
   "metadata": {},
   "outputs": [],
   "source": []
  },
  {
   "cell_type": "code",
   "execution_count": null,
   "metadata": {},
   "outputs": [],
   "source": []
  }
 ],
 "metadata": {
  "kernelspec": {
   "display_name": "Python 2",
   "language": "python",
   "name": "python2"
  },
  "language_info": {
   "codemirror_mode": {
    "name": "ipython",
    "version": 2
   },
   "file_extension": ".py",
   "mimetype": "text/x-python",
   "name": "python",
   "nbconvert_exporter": "python",
   "pygments_lexer": "ipython2",
   "version": "2.7.14"
  }
 },
 "nbformat": 4,
 "nbformat_minor": 2
}
